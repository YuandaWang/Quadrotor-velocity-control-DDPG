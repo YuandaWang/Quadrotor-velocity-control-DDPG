{
 "cells": [
  {
   "cell_type": "code",
   "execution_count": 1,
   "metadata": {},
   "outputs": [],
   "source": [
    "import numpy as np\n",
    "import matplotlib.pyplot as plt\n",
    "import tensorflow as tf\n",
    "from DDPG_Agent import DDPG_Agent\n",
    "from QuadModel05 import QuadModel\n",
    "\n",
    "settings = {\n",
    "    'num_state': 12,\n",
    "    'num_action':4,\n",
    "    'DDPG':{\n",
    "        'learning_rate_A':0.001,\n",
    "        'learning_rate_C':0.005,\n",
    "        'gamma':0.99,\n",
    "        'batch_size':128,\n",
    "        'replay_buffer_size':100000,\n",
    "        'soft_update_rate':0.002,\n",
    "        'num_fc1':64,\n",
    "        'num_fc2':32,\n",
    "        'fail':40,\n",
    "    }\n",
    "}\n",
    "\n",
    "tf.reset_default_graph()\n",
    "\n",
    "sess = tf.Session()\n",
    "RL = DDPG_Agent(settings, sess)\n",
    "    \n",
    "saver = tf.train.Saver(max_to_keep=None)   # save all\n",
    "\n",
    "def process_state(s):\n",
    "    return np.reshape(s, [1, -1])\n",
    "\n",
    "def generate_desired_vel():\n",
    "    maxvel = 10\n",
    "    co = 0.5\n",
    "    velX = (2 * np.random.random() - 1) * maxvel * co\n",
    "    velY = (2 * np.random.random() - 1) * maxvel * co\n",
    "    velZ = (2 * np.random.random() - 1) * maxvel * co\n",
    "    return np.array([velX, velY, velZ])\n",
    "\n",
    "sigma = 0.1\n",
    "rlog = []\n",
    "traincount = 0"
   ]
  },
  {
   "cell_type": "code",
   "execution_count": null,
   "metadata": {
    "scrolled": false
   },
   "outputs": [],
   "source": [
    "for episode in range(10000):\n",
    "    d_Vel = generate_desired_vel()\n",
    "    quadmodel = QuadModel(d_Vel)\n",
    "    s = quadmodel.observe()\n",
    "    s = process_state(s)\n",
    "    rsum = 0\n",
    "    for step in range(500):\n",
    "        action = sess.run(RL.A, feed_dict={RL.S:s})[0]\n",
    "        # random exploration\n",
    "        action = np.clip(np.random.normal(action, sigma), 0, 1)\n",
    "        s1, r, d = quadmodel.step(action)\n",
    "        s1 = process_state(s1)\n",
    "        rsum += r\n",
    "        RL.buffer_add(s, action, r, s1, d)\n",
    "        if RL.buffer_ready:\n",
    "            loss, rawQ = RL.train_it()\n",
    "        if d: break\n",
    "        s = s1\n",
    "    # end of episode\n",
    "    rlog.append(rsum)\n",
    "    print 'episode:', episode, 'reward:', rsum"
   ]
  },
  {
   "cell_type": "code",
   "execution_count": null,
   "metadata": {},
   "outputs": [],
   "source": []
  }
 ],
 "metadata": {
  "kernelspec": {
   "display_name": "Python 2",
   "language": "python",
   "name": "python2"
  },
  "language_info": {
   "codemirror_mode": {
    "name": "ipython",
    "version": 2
   },
   "file_extension": ".py",
   "mimetype": "text/x-python",
   "name": "python",
   "nbconvert_exporter": "python",
   "pygments_lexer": "ipython2",
   "version": "2.7.17"
  }
 },
 "nbformat": 4,
 "nbformat_minor": 2
}
